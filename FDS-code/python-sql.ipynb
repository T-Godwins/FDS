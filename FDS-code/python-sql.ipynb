{
 "cells": [
  {
   "cell_type": "code",
   "execution_count": 1,
   "metadata": {},
   "outputs": [],
   "source": [
    "#%pip install ipython-sql configparser pandas psycopg2 numpy"
   ]
  },
  {
   "cell_type": "code",
   "execution_count": 2,
   "metadata": {},
   "outputs": [],
   "source": [
    "import psycopg2\n",
    "import configparser\n",
    "import pandas as pd\n",
    "import numpy as np\n",
    "%load_ext sql"
   ]
  },
  {
   "cell_type": "markdown",
   "metadata": {},
   "source": [
    "### Get authentication from config file"
   ]
  },
  {
   "cell_type": "code",
   "execution_count": 3,
   "metadata": {},
   "outputs": [],
   "source": [
    "config = configparser.ConfigParser()\n",
    "config.read('../private.cfg')\n",
    "DB_NAME_DEFAULT = config.get('SQL', 'DB_NAME_DEFAULT')\n",
    "DB_USER = config.get('SQL', 'DB_USER')\n",
    "DB_PASSWORD = config.get('SQL', 'DB_PASSWORD') "
   ]
  },
  {
   "cell_type": "markdown",
   "metadata": {},
   "source": [
    "### Connect to Database"
   ]
  },
  {
   "cell_type": "code",
   "execution_count": 4,
   "metadata": {},
   "outputs": [],
   "source": [
    "conn = psycopg2.connect(\"host=127.0.0.1 dbname={} user={} password={}\".format(DB_NAME_DEFAULT, DB_USER, DB_PASSWORD))\n",
    "conn.set_session(autocommit=True)\n",
    "cur = conn.cursor()"
   ]
  },
  {
   "cell_type": "markdown",
   "metadata": {},
   "source": [
    "### Create Database"
   ]
  },
  {
   "cell_type": "code",
   "execution_count": 5,
   "metadata": {},
   "outputs": [],
   "source": [
    "cur.execute('DROP DATABASE IF EXISTS coffeeshops')\n",
    "cur.execute(\"CREATE DATABASE coffeeshops WITH ENCODING 'utf8' TEMPLATE template0\")"
   ]
  },
  {
   "cell_type": "markdown",
   "metadata": {},
   "source": [
    "### Close connection"
   ]
  },
  {
   "cell_type": "code",
   "execution_count": 6,
   "metadata": {},
   "outputs": [],
   "source": [
    "conn.close()"
   ]
  },
  {
   "cell_type": "markdown",
   "metadata": {},
   "source": [
    "### Connect to newly created Database"
   ]
  },
  {
   "cell_type": "code",
   "execution_count": 7,
   "metadata": {},
   "outputs": [],
   "source": [
    "conn = psycopg2.connect(\"host=127.0.0.1 dbname=coffeeshops user={} password={}\".format(DB_USER, DB_PASSWORD))\n",
    "cur = conn.cursor()"
   ]
  },
  {
   "cell_type": "code",
   "execution_count": 8,
   "metadata": {},
   "outputs": [],
   "source": [
    "cur.execute(\n",
    "'''\n",
    "DROP TABLE IF EXISTS employee\n",
    "'''\n",
    ")\n",
    "conn.commit()"
   ]
  },
  {
   "cell_type": "code",
   "execution_count": 9,
   "metadata": {},
   "outputs": [],
   "source": [
    "cur.execute(\n",
    "'''\n",
    "CREATE TABLE IF NOT EXISTS employees\n",
    "(\n",
    "employee_id INT PRIMARY KEY,\n",
    "first_name VARCHAR(50),\n",
    "last_name VARCHAR(50),\n",
    "email VARCHAR(50),\n",
    "hire_date DATE,\n",
    "shop_name VARCHAR(50),\n",
    "salary INT\n",
    ")\n",
    "'''\n",
    ")\n",
    "conn.commit()"
   ]
  },
  {
   "cell_type": "markdown",
   "metadata": {},
   "source": [
    "### Read in CSV file and insert into database"
   ]
  },
  {
   "cell_type": "code",
   "execution_count": 13,
   "metadata": {},
   "outputs": [
    {
     "data": {
      "text/html": [
       "<div>\n",
       "<style scoped>\n",
       "    .dataframe tbody tr th:only-of-type {\n",
       "        vertical-align: middle;\n",
       "    }\n",
       "\n",
       "    .dataframe tbody tr th {\n",
       "        vertical-align: top;\n",
       "    }\n",
       "\n",
       "    .dataframe thead th {\n",
       "        text-align: right;\n",
       "    }\n",
       "</style>\n",
       "<table border=\"1\" class=\"dataframe\">\n",
       "  <thead>\n",
       "    <tr style=\"text-align: right;\">\n",
       "      <th></th>\n",
       "      <th>employee_id</th>\n",
       "      <th>first_name</th>\n",
       "      <th>last_name</th>\n",
       "      <th>email</th>\n",
       "      <th>hire_date</th>\n",
       "      <th>shop_name</th>\n",
       "      <th>salary</th>\n",
       "    </tr>\n",
       "  </thead>\n",
       "  <tbody>\n",
       "    <tr>\n",
       "      <th>0</th>\n",
       "      <td>54733</td>\n",
       "      <td>Vonni</td>\n",
       "      <td>Davsley</td>\n",
       "      <td>vdavsley0@joomla.org</td>\n",
       "      <td>21/03/2016</td>\n",
       "      <td>Urban Grind</td>\n",
       "      <td>9253</td>\n",
       "    </tr>\n",
       "    <tr>\n",
       "      <th>1</th>\n",
       "      <td>49009</td>\n",
       "      <td>Cary</td>\n",
       "      <td>Brauninger</td>\n",
       "      <td>cbrauninger1@independent.co.uk</td>\n",
       "      <td>26/08/2014</td>\n",
       "      <td>Common Grounds</td>\n",
       "      <td>45036</td>\n",
       "    </tr>\n",
       "    <tr>\n",
       "      <th>2</th>\n",
       "      <td>59278</td>\n",
       "      <td>Gerianna</td>\n",
       "      <td>Tolcharde</td>\n",
       "      <td>NaN</td>\n",
       "      <td>06/09/2019</td>\n",
       "      <td>Common Grounds</td>\n",
       "      <td>37007</td>\n",
       "    </tr>\n",
       "    <tr>\n",
       "      <th>3</th>\n",
       "      <td>92214</td>\n",
       "      <td>Helene</td>\n",
       "      <td>Bealing</td>\n",
       "      <td>NaN</td>\n",
       "      <td>12/11/2022</td>\n",
       "      <td>Urban Grind</td>\n",
       "      <td>13118</td>\n",
       "    </tr>\n",
       "    <tr>\n",
       "      <th>4</th>\n",
       "      <td>32890</td>\n",
       "      <td>Vivien</td>\n",
       "      <td>McCrackem</td>\n",
       "      <td>NaN</td>\n",
       "      <td>12/02/2019</td>\n",
       "      <td>Common Grounds</td>\n",
       "      <td>59034</td>\n",
       "    </tr>\n",
       "  </tbody>\n",
       "</table>\n",
       "</div>"
      ],
      "text/plain": [
       "   employee_id first_name   last_name                           email  \\\n",
       "0        54733      Vonni     Davsley            vdavsley0@joomla.org   \n",
       "1        49009       Cary  Brauninger  cbrauninger1@independent.co.uk   \n",
       "2        59278   Gerianna   Tolcharde                             NaN   \n",
       "3        92214     Helene     Bealing                             NaN   \n",
       "4        32890     Vivien   McCrackem                             NaN   \n",
       "\n",
       "    hire_date       shop_name  salary  \n",
       "0  21/03/2016     Urban Grind    9253  \n",
       "1  26/08/2014  Common Grounds   45036  \n",
       "2  06/09/2019  Common Grounds   37007  \n",
       "3  12/11/2022     Urban Grind   13118  \n",
       "4  12/02/2019  Common Grounds   59034  "
      ]
     },
     "execution_count": 13,
     "metadata": {},
     "output_type": "execute_result"
    }
   ],
   "source": [
    "df = pd.read_csv('../Data/demo/coffeeshop.csv')\n",
    "df.head()"
   ]
  },
  {
   "cell_type": "code",
   "execution_count": 11,
   "metadata": {},
   "outputs": [
    {
     "ename": "DatetimeFieldOverflow",
     "evalue": "date/time field value out of range: \"21/03/2016\"\nLINE 4: ...4733, 'Vonni', 'Davsley', 'vdavsley0@joomla.org', '21/03/201...\n                                                             ^\nHINT:  Perhaps you need a different \"datestyle\" setting.\n",
     "output_type": "error",
     "traceback": [
      "\u001b[0;31m---------------------------------------------------------------------------\u001b[0m",
      "\u001b[0;31mDatetimeFieldOverflow\u001b[0m                     Traceback (most recent call last)",
      "Cell \u001b[0;32mIn[11], line 2\u001b[0m\n\u001b[1;32m      1\u001b[0m \u001b[38;5;28;01mfor\u001b[39;00m i, row \u001b[38;5;129;01min\u001b[39;00m df\u001b[38;5;241m.\u001b[39miterrows():\n\u001b[0;32m----> 2\u001b[0m     cur\u001b[38;5;241m.\u001b[39mexecute(\n\u001b[1;32m      3\u001b[0m \u001b[38;5;250m        \u001b[39m\u001b[38;5;124;03m'''\u001b[39;00m\n\u001b[1;32m      4\u001b[0m \u001b[38;5;124;03m            INSERT INTO employees\u001b[39;00m\n\u001b[1;32m      5\u001b[0m \u001b[38;5;124;03m            (employee_id, first_name, last_name, email, hire_date, shop_name, salary)\u001b[39;00m\n\u001b[1;32m      6\u001b[0m \u001b[38;5;124;03m            VALUES(%s, %s, %s, %s, %s, %s, %s)\u001b[39;00m\n\u001b[1;32m      7\u001b[0m \u001b[38;5;124;03m        '''\u001b[39;00m,\n\u001b[1;32m      8\u001b[0m         row\u001b[38;5;241m.\u001b[39mtolist()\n\u001b[1;32m      9\u001b[0m     )\n\u001b[1;32m     10\u001b[0m     conn\u001b[38;5;241m.\u001b[39mcommit()\n",
      "\u001b[0;31mDatetimeFieldOverflow\u001b[0m: date/time field value out of range: \"21/03/2016\"\nLINE 4: ...4733, 'Vonni', 'Davsley', 'vdavsley0@joomla.org', '21/03/201...\n                                                             ^\nHINT:  Perhaps you need a different \"datestyle\" setting.\n"
     ]
    }
   ],
   "source": [
    "# need to fix date style\n",
    "for i, row in df.iterrows():\n",
    "    cur.execute(\n",
    "        '''\n",
    "            INSERT INTO employees\n",
    "            (employee_id, first_name, last_name, email, hire_date, shop_name, salary)\n",
    "            VALUES(%s, %s, %s, %s, %s, %s, %s)\n",
    "        ''',\n",
    "        row.tolist()\n",
    "    )\n",
    "    conn.commit()"
   ]
  }
 ],
 "metadata": {
  "kernelspec": {
   "display_name": "Python (Projects)",
   "language": "python",
   "name": "projects"
  },
  "language_info": {
   "codemirror_mode": {
    "name": "ipython",
    "version": 3
   },
   "file_extension": ".py",
   "mimetype": "text/x-python",
   "name": "python",
   "nbconvert_exporter": "python",
   "pygments_lexer": "ipython3",
   "version": "3.11.9"
  }
 },
 "nbformat": 4,
 "nbformat_minor": 2
}
